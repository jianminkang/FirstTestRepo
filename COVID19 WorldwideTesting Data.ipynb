{
 "cells": [
  {
   "cell_type": "code",
   "execution_count": 81,
   "metadata": {},
   "outputs": [
    {
     "data": {
      "text/html": [
       "<div>\n",
       "<style scoped>\n",
       "    .dataframe tbody tr th:only-of-type {\n",
       "        vertical-align: middle;\n",
       "    }\n",
       "\n",
       "    .dataframe tbody tr th {\n",
       "        vertical-align: top;\n",
       "    }\n",
       "\n",
       "    .dataframe thead th {\n",
       "        text-align: right;\n",
       "    }\n",
       "</style>\n",
       "<table border=\"1\" class=\"dataframe\">\n",
       "  <thead>\n",
       "    <tr style=\"text-align: right;\">\n",
       "      <th></th>\n",
       "      <th>Date</th>\n",
       "      <th>Country_Region</th>\n",
       "      <th>Province_State</th>\n",
       "      <th>positive</th>\n",
       "      <th>active</th>\n",
       "      <th>hospitalized</th>\n",
       "      <th>hospitalizedCurr</th>\n",
       "      <th>recovered</th>\n",
       "      <th>death</th>\n",
       "      <th>total_tested</th>\n",
       "      <th>daily_tested</th>\n",
       "      <th>daily_positive</th>\n",
       "    </tr>\n",
       "  </thead>\n",
       "  <tbody>\n",
       "    <tr>\n",
       "      <th>0</th>\n",
       "      <td>2020-01-16</td>\n",
       "      <td>Iceland</td>\n",
       "      <td>All States</td>\n",
       "      <td>3.0</td>\n",
       "      <td>NaN</td>\n",
       "      <td>NaN</td>\n",
       "      <td>NaN</td>\n",
       "      <td>NaN</td>\n",
       "      <td>NaN</td>\n",
       "      <td>NaN</td>\n",
       "      <td>NaN</td>\n",
       "      <td>NaN</td>\n",
       "    </tr>\n",
       "    <tr>\n",
       "      <th>1</th>\n",
       "      <td>2020-01-17</td>\n",
       "      <td>Iceland</td>\n",
       "      <td>All States</td>\n",
       "      <td>4.0</td>\n",
       "      <td>NaN</td>\n",
       "      <td>NaN</td>\n",
       "      <td>NaN</td>\n",
       "      <td>NaN</td>\n",
       "      <td>NaN</td>\n",
       "      <td>NaN</td>\n",
       "      <td>NaN</td>\n",
       "      <td>1.0</td>\n",
       "    </tr>\n",
       "    <tr>\n",
       "      <th>2</th>\n",
       "      <td>2020-01-18</td>\n",
       "      <td>Iceland</td>\n",
       "      <td>All States</td>\n",
       "      <td>7.0</td>\n",
       "      <td>NaN</td>\n",
       "      <td>NaN</td>\n",
       "      <td>NaN</td>\n",
       "      <td>NaN</td>\n",
       "      <td>NaN</td>\n",
       "      <td>NaN</td>\n",
       "      <td>NaN</td>\n",
       "      <td>3.0</td>\n",
       "    </tr>\n",
       "    <tr>\n",
       "      <th>3</th>\n",
       "      <td>2020-01-20</td>\n",
       "      <td>South Korea</td>\n",
       "      <td>All States</td>\n",
       "      <td>1.0</td>\n",
       "      <td>NaN</td>\n",
       "      <td>NaN</td>\n",
       "      <td>NaN</td>\n",
       "      <td>NaN</td>\n",
       "      <td>NaN</td>\n",
       "      <td>4.0</td>\n",
       "      <td>NaN</td>\n",
       "      <td>NaN</td>\n",
       "    </tr>\n",
       "    <tr>\n",
       "      <th>4</th>\n",
       "      <td>2020-01-22</td>\n",
       "      <td>United States</td>\n",
       "      <td>All States</td>\n",
       "      <td>0.0</td>\n",
       "      <td>NaN</td>\n",
       "      <td>NaN</td>\n",
       "      <td>NaN</td>\n",
       "      <td>NaN</td>\n",
       "      <td>0.0</td>\n",
       "      <td>0.0</td>\n",
       "      <td>NaN</td>\n",
       "      <td>NaN</td>\n",
       "    </tr>\n",
       "  </tbody>\n",
       "</table>\n",
       "</div>"
      ],
      "text/plain": [
       "         Date Country_Region Province_State  positive  active  hospitalized  \\\n",
       "0  2020-01-16        Iceland     All States       3.0     NaN           NaN   \n",
       "1  2020-01-17        Iceland     All States       4.0     NaN           NaN   \n",
       "2  2020-01-18        Iceland     All States       7.0     NaN           NaN   \n",
       "3  2020-01-20    South Korea     All States       1.0     NaN           NaN   \n",
       "4  2020-01-22  United States     All States       0.0     NaN           NaN   \n",
       "\n",
       "   hospitalizedCurr  recovered  death  total_tested  daily_tested  \\\n",
       "0               NaN        NaN    NaN           NaN           NaN   \n",
       "1               NaN        NaN    NaN           NaN           NaN   \n",
       "2               NaN        NaN    NaN           NaN           NaN   \n",
       "3               NaN        NaN    NaN           4.0           NaN   \n",
       "4               NaN        NaN    0.0           0.0           NaN   \n",
       "\n",
       "   daily_positive  \n",
       "0             NaN  \n",
       "1             1.0  \n",
       "2             3.0  \n",
       "3             NaN  \n",
       "4             NaN  "
      ]
     },
     "execution_count": 81,
     "metadata": {},
     "output_type": "execute_result"
    }
   ],
   "source": [
    "\n",
    "# Import Required Libraries. Including Pandas if not already installed\n",
    "import pandas as pd\n",
    "\n",
    "# Load the 'tested_worldwide.csv' file from the root level\n",
    "df = pd.read_csv('tested_worldwide.csv')\n",
    "\n",
    "# Display the first few rows of the dataframe\n",
    "df.head()"
   ]
  },
  {
   "cell_type": "code",
   "execution_count": 82,
   "metadata": {},
   "outputs": [
    {
     "name": "stdout",
     "output_type": "stream",
     "text": [
      "The dataset has 27641 rows and 12 columns\n",
      "Date                 object\n",
      "Country_Region       object\n",
      "Province_State       object\n",
      "positive            float64\n",
      "active              float64\n",
      "hospitalized        float64\n",
      "hospitalizedCurr    float64\n",
      "recovered           float64\n",
      "death               float64\n",
      "total_tested        float64\n",
      "daily_tested        float64\n",
      "daily_positive      float64\n",
      "dtype: object\n",
      "Date                    0\n",
      "Country_Region          0\n",
      "Province_State          0\n",
      "positive             4242\n",
      "active               9833\n",
      "hospitalized        19231\n",
      "hospitalizedCurr    13080\n",
      "recovered            9626\n",
      "death                4010\n",
      "total_tested          912\n",
      "daily_tested         1174\n",
      "daily_positive       4557\n",
      "dtype: int64\n",
      "Date                  297\n",
      "Country_Region        147\n",
      "Province_State         81\n",
      "positive            14998\n",
      "active               9554\n",
      "hospitalized         4862\n",
      "hospitalizedCurr     2904\n",
      "recovered            9183\n",
      "death                5641\n",
      "total_tested        23610\n",
      "daily_tested        13375\n",
      "daily_positive       3440\n",
      "dtype: int64\n"
     ]
    }
   ],
   "source": [
    "# display first 5 rows of dataset.\n",
    "df.head()\n",
    "# Display the number of rows and columns and print out with a message  \n",
    "print(f'The dataset has {df.shape[0]} rows and {df.shape[1]} columns')\n",
    "\n",
    "# Display the data types of each column .\n",
    "print(df.dtypes)\n",
    "# Display the number of missing values in each column\n",
    "missing_values = df.isnull().sum()\n",
    "print(missing_values)\n",
    "# Display the number of unique values in each column and print out with a message\n",
    "unique_values = df.nunique()\n",
    "print(unique_values)\n"
   ]
  },
  {
   "cell_type": "code",
   "execution_count": 83,
   "metadata": {},
   "outputs": [],
   "source": [
    "# Drop the columns that are not needed for the analysis.\n",
    "data = df[['Country_Region', 'positive', 'total_tested']]"
   ]
  },
  {
   "cell_type": "code",
   "execution_count": 84,
   "metadata": {},
   "outputs": [
    {
     "name": "stderr",
     "output_type": "stream",
     "text": [
      "C:\\Users\\Admin\\AppData\\Local\\Temp\\ipykernel_12400\\3923634081.py:2: SettingWithCopyWarning: \n",
      "A value is trying to be set on a copy of a slice from a DataFrame\n",
      "\n",
      "See the caveats in the documentation: https://pandas.pydata.org/pandas-docs/stable/user_guide/indexing.html#returning-a-view-versus-a-copy\n",
      "  data.rename(columns={'Country_Region': 'Country', 'positive': 'Positive Cases', 'total_tested': 'Total Tested'}, inplace=True)\n"
     ]
    }
   ],
   "source": [
    "# Rename the columns to make them more readable\n",
    "data.rename(columns={'Country_Region': 'Country', 'positive': 'Positive Cases', 'total_tested': 'Total Tested'}, inplace=True)"
   ]
  },
  {
   "cell_type": "code",
   "execution_count": 85,
   "metadata": {},
   "outputs": [
    {
     "name": "stderr",
     "output_type": "stream",
     "text": [
      "C:\\Users\\Admin\\AppData\\Local\\Temp\\ipykernel_12400\\4043645718.py:2: SettingWithCopyWarning: \n",
      "A value is trying to be set on a copy of a slice from a DataFrame\n",
      "\n",
      "See the caveats in the documentation: https://pandas.pydata.org/pandas-docs/stable/user_guide/indexing.html#returning-a-view-versus-a-copy\n",
      "  data.dropna(inplace=True)\n"
     ]
    }
   ],
   "source": [
    " #Drop the rows that have missing values\n",
    "data.dropna(inplace=True)"
   ]
  },
  {
   "cell_type": "code",
   "execution_count": 86,
   "metadata": {},
   "outputs": [
    {
     "name": "stderr",
     "output_type": "stream",
     "text": [
      "C:\\Users\\Admin\\AppData\\Local\\Temp\\ipykernel_12400\\2405854316.py:2: SettingWithCopyWarning: \n",
      "A value is trying to be set on a copy of a slice from a DataFrame.\n",
      "Try using .loc[row_indexer,col_indexer] = value instead\n",
      "\n",
      "See the caveats in the documentation: https://pandas.pydata.org/pandas-docs/stable/user_guide/indexing.html#returning-a-view-versus-a-copy\n",
      "  data['Positive Cases'] = data['Positive Cases'].astype(int)\n",
      "C:\\Users\\Admin\\AppData\\Local\\Temp\\ipykernel_12400\\2405854316.py:3: SettingWithCopyWarning: \n",
      "A value is trying to be set on a copy of a slice from a DataFrame.\n",
      "Try using .loc[row_indexer,col_indexer] = value instead\n",
      "\n",
      "See the caveats in the documentation: https://pandas.pydata.org/pandas-docs/stable/user_guide/indexing.html#returning-a-view-versus-a-copy\n",
      "  data['Total Tested'] = data['Total Tested'].astype(int)\n",
      "C:\\Users\\Admin\\AppData\\Local\\Temp\\ipykernel_12400\\2405854316.py:4: SettingWithCopyWarning: \n",
      "A value is trying to be set on a copy of a slice from a DataFrame.\n",
      "Try using .loc[row_indexer,col_indexer] = value instead\n",
      "\n",
      "See the caveats in the documentation: https://pandas.pydata.org/pandas-docs/stable/user_guide/indexing.html#returning-a-view-versus-a-copy\n",
      "  data['Country'] = data['Country'].astype('category')\n"
     ]
    }
   ],
   "source": [
    "#Convert the data types of the columns to the appropriate types, include country column\n",
    "data['Positive Cases'] = data['Positive Cases'].astype(int)\n",
    "data['Total Tested'] = data['Total Tested'].astype(int)\n",
    "data['Country'] = data['Country'].astype('category')\n"
   ]
  },
  {
   "cell_type": "code",
   "execution_count": 87,
   "metadata": {},
   "outputs": [
    {
     "name": "stdout",
     "output_type": "stream",
     "text": [
      "Country           0\n",
      "Positive Cases    0\n",
      "Total Tested      0\n",
      "dtype: int64\n"
     ]
    }
   ],
   "source": [
    "#Display the number of missing values in each column and print out with a message\n",
    "missing_values = data.isnull().sum()\n",
    "print(missing_values)"
   ]
  },
  {
   "cell_type": "code",
   "execution_count": 88,
   "metadata": {},
   "outputs": [
    {
     "name": "stderr",
     "output_type": "stream",
     "text": [
      "C:\\Users\\Admin\\AppData\\Local\\Temp\\ipykernel_12400\\509779994.py:2: FutureWarning: The default of observed=False is deprecated and will be changed to True in a future version of pandas. Pass observed=False to retain current behavior or observed=True to adopt the future default and silence this warning.\n",
      "  total_positive_cases = data.groupby('Country')['Positive Cases'].sum().reset_index()\n"
     ]
    }
   ],
   "source": [
    "# Create a new dataframe that contains the total number of positive cases for each country\n",
    "total_positive_cases = data.groupby('Country')['Positive Cases'].sum().reset_index()"
   ]
  },
  {
   "cell_type": "code",
   "execution_count": 89,
   "metadata": {},
   "outputs": [
    {
     "name": "stderr",
     "output_type": "stream",
     "text": [
      "C:\\Users\\Admin\\AppData\\Local\\Temp\\ipykernel_12400\\789902345.py:3: FutureWarning: The default of observed=False is deprecated and will be changed to True in a future version of pandas. Pass observed=False to retain current behavior or observed=True to adopt the future default and silence this warning.\n",
      "  total_positive_cases = data.groupby('Country')['Positive Cases'].sum()\n"
     ]
    },
    {
     "data": {
      "text/html": [
       "<div>\n",
       "<style scoped>\n",
       "    .dataframe tbody tr th:only-of-type {\n",
       "        vertical-align: middle;\n",
       "    }\n",
       "\n",
       "    .dataframe tbody tr th {\n",
       "        vertical-align: top;\n",
       "    }\n",
       "\n",
       "    .dataframe thead th {\n",
       "        text-align: right;\n",
       "    }\n",
       "</style>\n",
       "<table border=\"1\" class=\"dataframe\">\n",
       "  <thead>\n",
       "    <tr style=\"text-align: right;\">\n",
       "      <th></th>\n",
       "      <th>Country</th>\n",
       "      <th>Total Positive Cases</th>\n",
       "    </tr>\n",
       "  </thead>\n",
       "  <tbody>\n",
       "    <tr>\n",
       "      <th>0</th>\n",
       "      <td>Albania</td>\n",
       "      <td>12279</td>\n",
       "    </tr>\n",
       "    <tr>\n",
       "      <th>1</th>\n",
       "      <td>Argentina</td>\n",
       "      <td>28220</td>\n",
       "    </tr>\n",
       "    <tr>\n",
       "      <th>2</th>\n",
       "      <td>Armenia</td>\n",
       "      <td>7225809</td>\n",
       "    </tr>\n",
       "    <tr>\n",
       "      <th>3</th>\n",
       "      <td>Australia</td>\n",
       "      <td>20654</td>\n",
       "    </tr>\n",
       "    <tr>\n",
       "      <th>4</th>\n",
       "      <td>Austria</td>\n",
       "      <td>541013</td>\n",
       "    </tr>\n",
       "    <tr>\n",
       "      <th>...</th>\n",
       "      <td>...</td>\n",
       "      <td>...</td>\n",
       "    </tr>\n",
       "    <tr>\n",
       "      <th>112</th>\n",
       "      <td>United States</td>\n",
       "      <td>1837768204</td>\n",
       "    </tr>\n",
       "    <tr>\n",
       "      <th>113</th>\n",
       "      <td>Uruguay</td>\n",
       "      <td>2160</td>\n",
       "    </tr>\n",
       "    <tr>\n",
       "      <th>114</th>\n",
       "      <td>Veneto</td>\n",
       "      <td>119910</td>\n",
       "    </tr>\n",
       "    <tr>\n",
       "      <th>115</th>\n",
       "      <td>Venezuela</td>\n",
       "      <td>461</td>\n",
       "    </tr>\n",
       "    <tr>\n",
       "      <th>116</th>\n",
       "      <td>Vietnam</td>\n",
       "      <td>6450</td>\n",
       "    </tr>\n",
       "  </tbody>\n",
       "</table>\n",
       "<p>117 rows × 2 columns</p>\n",
       "</div>"
      ],
      "text/plain": [
       "           Country  Total Positive Cases\n",
       "0          Albania                 12279\n",
       "1        Argentina                 28220\n",
       "2          Armenia               7225809\n",
       "3        Australia                 20654\n",
       "4          Austria                541013\n",
       "..             ...                   ...\n",
       "112  United States            1837768204\n",
       "113        Uruguay                  2160\n",
       "114         Veneto                119910\n",
       "115      Venezuela                   461\n",
       "116        Vietnam                  6450\n",
       "\n",
       "[117 rows x 2 columns]"
      ]
     },
     "execution_count": 89,
     "metadata": {},
     "output_type": "execute_result"
    }
   ],
   "source": [
    "# Group the data by 'Country' and calculate the sum of 'Positive Cases'\n",
    "\n",
    "total_positive_cases = data.groupby('Country')['Positive Cases'].sum()\n",
    "\n",
    "# Create a new dataframe with the total positive cases for each country\n",
    "\n",
    "df_total_positive_cases = pd.DataFrame({'Country': total_positive_cases.index, 'Total Positive Cases': total_positive_cases.values})\n",
    "\n",
    "# Display the new dataframe and print it out with a message\n",
    "df_total_positive_cases\n",
    "\n"
   ]
  },
  {
   "cell_type": "code",
   "execution_count": 90,
   "metadata": {},
   "outputs": [],
   "source": [
    "# Sort the dataframe in descending order of the total number of positive cases\n",
    "df_total_positive_cases.sort_values(by='Total Positive Cases', ascending=False, inplace=True)"
   ]
  },
  {
   "cell_type": "code",
   "execution_count": 91,
   "metadata": {},
   "outputs": [
    {
     "name": "stdout",
     "output_type": "stream",
     "text": [
      "            Country  Total Positive Cases\n",
      "112   United States            1837768204\n",
      "48            Italy              64199206\n",
      "17           Canada              50960416\n",
      "7        Bangladesh              43771939\n",
      "106          Turkey              16556127\n",
      "26          Czechia              10822251\n",
      "88           Russia              10663267\n",
      "2           Armenia               7225809\n",
      "21       Costa Rica               6655702\n",
      "111  United Kingdom               4924956\n"
     ]
    }
   ],
   "source": [
    "# Display the top ten countries with the most positive cases and print out with a message\n",
    "top_ten_positive_cases = df_total_positive_cases.head(10)\n",
    "print(top_ten_positive_cases)"
   ]
  },
  {
   "cell_type": "code",
   "execution_count": 92,
   "metadata": {},
   "outputs": [
    {
     "name": "stderr",
     "output_type": "stream",
     "text": [
      "C:\\Users\\Admin\\AppData\\Local\\Temp\\ipykernel_12400\\3527117691.py:2: FutureWarning: The default of observed=False is deprecated and will be changed to True in a future version of pandas. Pass observed=False to retain current behavior or observed=True to adopt the future default and silence this warning.\n",
      "  total_tests = data.groupby('Country')['Total Tested'].sum()\n"
     ]
    },
    {
     "data": {
      "text/html": [
       "<div>\n",
       "<style scoped>\n",
       "    .dataframe tbody tr th:only-of-type {\n",
       "        vertical-align: middle;\n",
       "    }\n",
       "\n",
       "    .dataframe tbody tr th {\n",
       "        vertical-align: top;\n",
       "    }\n",
       "\n",
       "    .dataframe thead th {\n",
       "        text-align: right;\n",
       "    }\n",
       "</style>\n",
       "<table border=\"1\" class=\"dataframe\">\n",
       "  <thead>\n",
       "    <tr style=\"text-align: right;\">\n",
       "      <th></th>\n",
       "      <th>Country</th>\n",
       "      <th>Total Tests</th>\n",
       "    </tr>\n",
       "  </thead>\n",
       "  <tbody>\n",
       "    <tr>\n",
       "      <th>0</th>\n",
       "      <td>Albania</td>\n",
       "      <td>114611</td>\n",
       "    </tr>\n",
       "    <tr>\n",
       "      <th>1</th>\n",
       "      <td>Argentina</td>\n",
       "      <td>323035</td>\n",
       "    </tr>\n",
       "    <tr>\n",
       "      <th>2</th>\n",
       "      <td>Armenia</td>\n",
       "      <td>35667650</td>\n",
       "    </tr>\n",
       "    <tr>\n",
       "      <th>3</th>\n",
       "      <td>Australia</td>\n",
       "      <td>323233309</td>\n",
       "    </tr>\n",
       "    <tr>\n",
       "      <th>4</th>\n",
       "      <td>Austria</td>\n",
       "      <td>7610548</td>\n",
       "    </tr>\n",
       "    <tr>\n",
       "      <th>...</th>\n",
       "      <td>...</td>\n",
       "      <td>...</td>\n",
       "    </tr>\n",
       "    <tr>\n",
       "      <th>112</th>\n",
       "      <td>United States</td>\n",
       "      <td>23592177772</td>\n",
       "    </tr>\n",
       "    <tr>\n",
       "      <th>113</th>\n",
       "      <td>Uruguay</td>\n",
       "      <td>51789</td>\n",
       "    </tr>\n",
       "    <tr>\n",
       "      <th>114</th>\n",
       "      <td>Veneto</td>\n",
       "      <td>1650118</td>\n",
       "    </tr>\n",
       "    <tr>\n",
       "      <th>115</th>\n",
       "      <td>Venezuela</td>\n",
       "      <td>395904</td>\n",
       "    </tr>\n",
       "    <tr>\n",
       "      <th>116</th>\n",
       "      <td>Vietnam</td>\n",
       "      <td>3761926</td>\n",
       "    </tr>\n",
       "  </tbody>\n",
       "</table>\n",
       "<p>117 rows × 2 columns</p>\n",
       "</div>"
      ],
      "text/plain": [
       "           Country  Total Tests\n",
       "0          Albania       114611\n",
       "1        Argentina       323035\n",
       "2          Armenia     35667650\n",
       "3        Australia    323233309\n",
       "4          Austria      7610548\n",
       "..             ...          ...\n",
       "112  United States  23592177772\n",
       "113        Uruguay        51789\n",
       "114         Veneto      1650118\n",
       "115      Venezuela       395904\n",
       "116        Vietnam      3761926\n",
       "\n",
       "[117 rows x 2 columns]"
      ]
     },
     "execution_count": 92,
     "metadata": {},
     "output_type": "execute_result"
    }
   ],
   "source": [
    "# Create a new dataframe that contains the total number of tests conducted for each country\n",
    "total_tests = data.groupby('Country')['Total Tested'].sum()\n",
    "\n",
    "# Create a new dataframe with the total tests conducted for each country\n",
    "df_total_tests = pd.DataFrame({'Country': total_tests.index, 'Total Tests': total_tests.values})\n",
    "\n",
    "# Display the new dataframe\n",
    "df_total_tests"
   ]
  },
  {
   "cell_type": "code",
   "execution_count": 93,
   "metadata": {},
   "outputs": [],
   "source": [
    "# Sort the dataframe in descending order of the total number of tests conducted\n",
    "df_total_tests.sort_values(by='Total Tests', ascending=False, inplace=True)"
   ]
  },
  {
   "cell_type": "code",
   "execution_count": 95,
   "metadata": {},
   "outputs": [
    {
     "name": "stdout",
     "output_type": "stream",
     "text": [
      "           Country  Total Tests\n",
      "112  United States  23592177772\n",
      "17          Canada   1797986542\n",
      "48           Italy   1547472209\n",
      "47          Israel    388197039\n",
      "3        Australia    323233309\n",
      "88          Russia    300300499\n",
      "7       Bangladesh    233149800\n",
      "106         Turkey    228325949\n",
      "26         Czechia    180065598\n",
      "39          Greece    142101237\n"
     ]
    }
   ],
   "source": [
    "# Display the top ten countries with the most tests conducted and print out with a message\n",
    "top_ten_tests = df_total_tests.head(10)\n",
    "print(top_ten_tests)"
   ]
  },
  {
   "cell_type": "code",
   "execution_count": 97,
   "metadata": {},
   "outputs": [
    {
     "data": {
      "text/html": [
       "<div>\n",
       "<style scoped>\n",
       "    .dataframe tbody tr th:only-of-type {\n",
       "        vertical-align: middle;\n",
       "    }\n",
       "\n",
       "    .dataframe tbody tr th {\n",
       "        vertical-align: top;\n",
       "    }\n",
       "\n",
       "    .dataframe thead th {\n",
       "        text-align: right;\n",
       "    }\n",
       "</style>\n",
       "<table border=\"1\" class=\"dataframe\">\n",
       "  <thead>\n",
       "    <tr style=\"text-align: right;\">\n",
       "      <th></th>\n",
       "      <th>Country</th>\n",
       "      <th>Total Positive Cases</th>\n",
       "      <th>Total Tests</th>\n",
       "    </tr>\n",
       "  </thead>\n",
       "  <tbody>\n",
       "    <tr>\n",
       "      <th>0</th>\n",
       "      <td>United States</td>\n",
       "      <td>1837768204</td>\n",
       "      <td>23592177772</td>\n",
       "    </tr>\n",
       "    <tr>\n",
       "      <th>1</th>\n",
       "      <td>Italy</td>\n",
       "      <td>64199206</td>\n",
       "      <td>1547472209</td>\n",
       "    </tr>\n",
       "    <tr>\n",
       "      <th>2</th>\n",
       "      <td>Canada</td>\n",
       "      <td>50960416</td>\n",
       "      <td>1797986542</td>\n",
       "    </tr>\n",
       "    <tr>\n",
       "      <th>3</th>\n",
       "      <td>Bangladesh</td>\n",
       "      <td>43771939</td>\n",
       "      <td>233149800</td>\n",
       "    </tr>\n",
       "    <tr>\n",
       "      <th>4</th>\n",
       "      <td>Turkey</td>\n",
       "      <td>16556127</td>\n",
       "      <td>228325949</td>\n",
       "    </tr>\n",
       "    <tr>\n",
       "      <th>...</th>\n",
       "      <td>...</td>\n",
       "      <td>...</td>\n",
       "      <td>...</td>\n",
       "    </tr>\n",
       "    <tr>\n",
       "      <th>112</th>\n",
       "      <td>Mozambique</td>\n",
       "      <td>160</td>\n",
       "      <td>5287</td>\n",
       "    </tr>\n",
       "    <tr>\n",
       "      <th>113</th>\n",
       "      <td>Myanmar</td>\n",
       "      <td>151</td>\n",
       "      <td>8460</td>\n",
       "    </tr>\n",
       "    <tr>\n",
       "      <th>114</th>\n",
       "      <td>Malawi</td>\n",
       "      <td>78</td>\n",
       "      <td>1689</td>\n",
       "    </tr>\n",
       "    <tr>\n",
       "      <th>115</th>\n",
       "      <td>Grenada</td>\n",
       "      <td>42</td>\n",
       "      <td>322</td>\n",
       "    </tr>\n",
       "    <tr>\n",
       "      <th>116</th>\n",
       "      <td>North Korea</td>\n",
       "      <td>0</td>\n",
       "      <td>1449</td>\n",
       "    </tr>\n",
       "  </tbody>\n",
       "</table>\n",
       "<p>117 rows × 3 columns</p>\n",
       "</div>"
      ],
      "text/plain": [
       "           Country  Total Positive Cases  Total Tests\n",
       "0    United States            1837768204  23592177772\n",
       "1            Italy              64199206   1547472209\n",
       "2           Canada              50960416   1797986542\n",
       "3       Bangladesh              43771939    233149800\n",
       "4           Turkey              16556127    228325949\n",
       "..             ...                   ...          ...\n",
       "112     Mozambique                   160         5287\n",
       "113        Myanmar                   151         8460\n",
       "114         Malawi                    78         1689\n",
       "115        Grenada                    42          322\n",
       "116    North Korea                     0         1449\n",
       "\n",
       "[117 rows x 3 columns]"
      ]
     },
     "execution_count": 97,
     "metadata": {},
     "output_type": "execute_result"
    }
   ],
   "source": [
    "# Merge the two dataframes created in the previous steps\n",
    "merged_data = pd.merge(df_total_positive_cases, df_total_tests, on='Country')\n",
    "merged_data"
   ]
  },
  {
   "cell_type": "code",
   "execution_count": 98,
   "metadata": {},
   "outputs": [],
   "source": [
    "# Create a new column that contains the ratio of positive cases to the number of tests conducted\n",
    "merged_data['Positive Test Ratio'] = merged_data['Total Positive Cases'] / merged_data['Total Tests']"
   ]
  },
  {
   "cell_type": "code",
   "execution_count": 99,
   "metadata": {},
   "outputs": [],
   "source": [
    "# Sort the dataframe in descending order of the ratio of positive cases to the number of tests conducted\n",
    "merged_data.sort_values(by='Positive Test Ratio', ascending=False, inplace=True)"
   ]
  },
  {
   "cell_type": "code",
   "execution_count": 103,
   "metadata": {},
   "outputs": [
    {
     "data": {
      "text/html": [
       "<div>\n",
       "<style scoped>\n",
       "    .dataframe tbody tr th:only-of-type {\n",
       "        vertical-align: middle;\n",
       "    }\n",
       "\n",
       "    .dataframe tbody tr th {\n",
       "        vertical-align: top;\n",
       "    }\n",
       "\n",
       "    .dataframe thead th {\n",
       "        text-align: right;\n",
       "    }\n",
       "</style>\n",
       "<table border=\"1\" class=\"dataframe\">\n",
       "  <thead>\n",
       "    <tr style=\"text-align: right;\">\n",
       "      <th></th>\n",
       "      <th>Country</th>\n",
       "      <th>Positive Test Ratio</th>\n",
       "    </tr>\n",
       "  </thead>\n",
       "  <tbody>\n",
       "    <tr>\n",
       "      <th>106</th>\n",
       "      <td>Tanzania</td>\n",
       "      <td>0.780675</td>\n",
       "    </tr>\n",
       "    <tr>\n",
       "      <th>103</th>\n",
       "      <td>Burkina Faso</td>\n",
       "      <td>0.480870</td>\n",
       "    </tr>\n",
       "    <tr>\n",
       "      <th>50</th>\n",
       "      <td>Ecuador</td>\n",
       "      <td>0.322330</td>\n",
       "    </tr>\n",
       "  </tbody>\n",
       "</table>\n",
       "</div>"
      ],
      "text/plain": [
       "          Country  Positive Test Ratio\n",
       "106      Tanzania             0.780675\n",
       "103  Burkina Faso             0.480870\n",
       "50        Ecuador             0.322330"
      ]
     },
     "execution_count": 103,
     "metadata": {},
     "output_type": "execute_result"
    }
   ],
   "source": [
    "#Display the top three countries with the highest ratio of positive cases to the number of tests conducted\n",
    "top_countries = merged_data.nlargest(3, 'Positive Test Ratio')\n",
    "\n",
    "top_countries[['Country', 'Positive Test Ratio']]"
   ]
  },
  {
   "cell_type": "code",
   "execution_count": 105,
   "metadata": {},
   "outputs": [
    {
     "data": {
      "text/plain": [
       "<Axes: xlabel='Country'>"
      ]
     },
     "execution_count": 105,
     "metadata": {},
     "output_type": "execute_result"
    },
    {
     "data": {
      "image/png": "[encoded data removed]",
      "text/plain": [
       "<Figure size 640x480 with 1 Axes>"
      ]
     },
     "metadata": {},
     "output_type": "display_data"
    }
   ],
   "source": [
    "# Display the results a chart that shows the top three countries with the highest ratio of positive cases to the number\n",
    "# of tests conducted\n",
    "import matplotlib.pyplot as plt\n",
    "top_countries.plot(x='Country', y='Positive Test Ratio', kind='bar')\n"
   ]
  },
  {
   "cell_type": "code",
   "execution_count": 106,
   "metadata": {},
   "outputs": [
    {
     "data": {
      "text/plain": [
       "<Axes: xlabel='Country'>"
      ]
     },
     "execution_count": 106,
     "metadata": {},
     "output_type": "execute_result"
    },
    {
     "data": {
      "image/png": "[encoded data removed]",
      "text/plain": [
       "<Figure size 640x480 with 1 Axes>"
      ]
     },
     "metadata": {},
     "output_type": "display_data"
    }
   ],
   "source": [
    "# Display the results in a chart that shows the top ten countries with the most positive cases\n",
    "top_ten_positive_cases.plot(x='Country', y='Total Positive Cases', kind='bar')\n"
   ]
  },
  {
   "cell_type": "code",
   "execution_count": 115,
   "metadata": {},
   "outputs": [
    {
     "ename": "AttributeError",
     "evalue": "'DataFrame' object has no attribute 'barh'",
     "output_type": "error",
     "traceback": [
      "\u001b[1;31m---------------------------------------------------------------------------\u001b[0m",
      "\u001b[1;31mAttributeError\u001b[0m                            Traceback (most recent call last)",
      "\u001b[1;32m~\\AppData\\Local\\Temp\\ipykernel_12400\\2152516264.py\u001b[0m in \u001b[0;36m?\u001b[1;34m()\u001b[0m\n\u001b[0;32m      1\u001b[0m \u001b[1;31m# Display the results in a chart that shows the top ten countries with the most tests conducted\u001b[0m\u001b[1;33m\u001b[0m\u001b[1;33m\u001b[0m\u001b[0m\n\u001b[0;32m      2\u001b[0m \u001b[1;31m#get the top 10 countries with the most tests conducted\u001b[0m\u001b[1;33m\u001b[0m\u001b[1;33m\u001b[0m\u001b[0m\n\u001b[0;32m      3\u001b[0m \u001b[0mtop_ten_tests\u001b[0m \u001b[1;33m=\u001b[0m \u001b[0mdf_total_tests\u001b[0m\u001b[1;33m.\u001b[0m\u001b[0mhead\u001b[0m\u001b[1;33m(\u001b[0m\u001b[1;36m10\u001b[0m\u001b[1;33m)\u001b[0m\u001b[1;33m\u001b[0m\u001b[1;33m\u001b[0m\u001b[0m\n\u001b[0;32m      4\u001b[0m \u001b[1;31m#create a bar chart\u001b[0m\u001b[1;33m\u001b[0m\u001b[1;33m\u001b[0m\u001b[0m\n\u001b[1;32m----> 5\u001b[1;33m \u001b[0mtop_ten_tests\u001b[0m\u001b[1;33m.\u001b[0m\u001b[0mbarh\u001b[0m\u001b[1;33m(\u001b[0m\u001b[0mx\u001b[0m\u001b[1;33m=\u001b[0m\u001b[1;34m'Country'\u001b[0m\u001b[1;33m,\u001b[0m \u001b[0my\u001b[0m\u001b[1;33m=\u001b[0m\u001b[1;34m'Total Tests'\u001b[0m\u001b[1;33m)\u001b[0m\u001b[1;33m\u001b[0m\u001b[1;33m\u001b[0m\u001b[0m\n\u001b[0m\u001b[0;32m      6\u001b[0m \u001b[1;31m#add title and labels\u001b[0m\u001b[1;33m\u001b[0m\u001b[1;33m\u001b[0m\u001b[0m\n\u001b[0;32m      7\u001b[0m \u001b[0mplt\u001b[0m\u001b[1;33m.\u001b[0m\u001b[0mtitle\u001b[0m\u001b[1;33m(\u001b[0m\u001b[1;34m'Top Ten Countries with the total tests conducted'\u001b[0m\u001b[1;33m)\u001b[0m\u001b[1;33m\u001b[0m\u001b[1;33m\u001b[0m\u001b[0m\n\u001b[0;32m      8\u001b[0m \u001b[0mplt\u001b[0m\u001b[1;33m.\u001b[0m\u001b[0mxlabel\u001b[0m\u001b[1;33m(\u001b[0m\u001b[1;34m'Country'\u001b[0m\u001b[1;33m)\u001b[0m\u001b[1;33m\u001b[0m\u001b[1;33m\u001b[0m\u001b[0m\n",
      "\u001b[1;32mc:\\Labfiles\\CopilotHackathon\\.venv\\Lib\\site-packages\\pandas\\core\\generic.py\u001b[0m in \u001b[0;36m?\u001b[1;34m(self, name)\u001b[0m\n\u001b[0;32m   6295\u001b[0m             \u001b[1;32mand\u001b[0m \u001b[0mname\u001b[0m \u001b[1;32mnot\u001b[0m \u001b[1;32min\u001b[0m \u001b[0mself\u001b[0m\u001b[1;33m.\u001b[0m\u001b[0m_accessors\u001b[0m\u001b[1;33m\u001b[0m\u001b[1;33m\u001b[0m\u001b[0m\n\u001b[0;32m   6296\u001b[0m             \u001b[1;32mand\u001b[0m \u001b[0mself\u001b[0m\u001b[1;33m.\u001b[0m\u001b[0m_info_axis\u001b[0m\u001b[1;33m.\u001b[0m\u001b[0m_can_hold_identifiers_and_holds_name\u001b[0m\u001b[1;33m(\u001b[0m\u001b[0mname\u001b[0m\u001b[1;33m)\u001b[0m\u001b[1;33m\u001b[0m\u001b[1;33m\u001b[0m\u001b[0m\n\u001b[0;32m   6297\u001b[0m         \u001b[1;33m)\u001b[0m\u001b[1;33m:\u001b[0m\u001b[1;33m\u001b[0m\u001b[1;33m\u001b[0m\u001b[0m\n\u001b[0;32m   6298\u001b[0m             \u001b[1;32mreturn\u001b[0m \u001b[0mself\u001b[0m\u001b[1;33m[\u001b[0m\u001b[0mname\u001b[0m\u001b[1;33m]\u001b[0m\u001b[1;33m\u001b[0m\u001b[1;33m\u001b[0m\u001b[0m\n\u001b[1;32m-> 6299\u001b[1;33m         \u001b[1;32mreturn\u001b[0m \u001b[0mobject\u001b[0m\u001b[1;33m.\u001b[0m\u001b[0m__getattribute__\u001b[0m\u001b[1;33m(\u001b[0m\u001b[0mself\u001b[0m\u001b[1;33m,\u001b[0m \u001b[0mname\u001b[0m\u001b[1;33m)\u001b[0m\u001b[1;33m\u001b[0m\u001b[1;33m\u001b[0m\u001b[0m\n\u001b[0m",
      "\u001b[1;31mAttributeError\u001b[0m: 'DataFrame' object has no attribute 'barh'"
     ]
    }
   ],
   "source": [
    "# Display the results in a chart that shows the top ten countries with the most tests conducted\n",
    "#get the top 10 countries with the most tests conducted\n",
    "top_ten_tests = df_total_tests.head(10)\n",
    "#create a horizontal bar chart\n",
    "plt.barh(top_ten_tests['Country'], top_ten_tests['Total Tests'])\n",
    "#add title and labels\n",
    "plt.title('Top Ten Countries with the total tests conducted')\n",
    "plt.xlabel('Country')\n",
    "plt.ylabel('Total Positive Cases')\n",
    "#invert the y-axis to have the country with the most positive cases at the top\n",
    "plt.gca().invert_yaxis()\n",
    "#display the plot\n",
    "plt.show()"
   ]
  }
 ],
 "metadata": {
  "kernelspec": {
   "display_name": ".venv",
   "language": "python",
   "name": "python3"
  },
  "language_info": {
   "codemirror_mode": {
    "name": "ipython",
    "version": 3
   },
   "file_extension": ".py",
   "mimetype": "text/x-python",
   "name": "python",
   "nbconvert_exporter": "python",
   "pygments_lexer": "ipython3",
   "version": "3.12.7"
  }
 },
 "nbformat": 4,
 "nbformat_minor": 2
}
